{
 "cells": [
  {
   "cell_type": "code",
   "execution_count": 170,
   "metadata": {},
   "outputs": [],
   "source": [
    "import pandas as pd\n",
    "import matplotlib.pyplot as plt\n",
    "import seaborn as sns\n",
    "import numpy as np\n",
    "from sklearn import metrics\n",
    "from sklearn import linear_model\n",
    "from sklearn.model_selection import train_test_split\n",
    "from sklearn.preprocessing import StandardScaler\n",
    "import seaborn as sns"
   ]
  },
  {
   "cell_type": "markdown",
   "metadata": {},
   "source": [
    "# 1. Data Processing: "
   ]
  },
  {
   "cell_type": "code",
   "execution_count": 171,
   "metadata": {},
   "outputs": [],
   "source": [
    "#a)Import the data\n",
    "\n",
    "df = pd.read_csv('ProviderInfo.csv')"
   ]
  },
  {
   "cell_type": "code",
   "execution_count": 172,
   "metadata": {},
   "outputs": [
    {
     "data": {
      "text/html": [
       "<div>\n",
       "<style scoped>\n",
       "    .dataframe tbody tr th:only-of-type {\n",
       "        vertical-align: middle;\n",
       "    }\n",
       "\n",
       "    .dataframe tbody tr th {\n",
       "        vertical-align: top;\n",
       "    }\n",
       "\n",
       "    .dataframe thead th {\n",
       "        text-align: right;\n",
       "    }\n",
       "</style>\n",
       "<table border=\"1\" class=\"dataframe\">\n",
       "  <thead>\n",
       "    <tr style=\"text-align: right;\">\n",
       "      <th></th>\n",
       "      <th>PROVNUM</th>\n",
       "      <th>PROVNAME</th>\n",
       "      <th>ADDRESS</th>\n",
       "      <th>CITY</th>\n",
       "      <th>STATE</th>\n",
       "      <th>ZIP</th>\n",
       "      <th>PHONE</th>\n",
       "      <th>COUNTY_SSA</th>\n",
       "      <th>COUNTY_NAME</th>\n",
       "      <th>OWNERSHIP</th>\n",
       "      <th>...</th>\n",
       "      <th>CYCLE_2_REVISIT_SCORE</th>\n",
       "      <th>CYCLE_2_TOTAL_SCORE</th>\n",
       "      <th>WEIGHTED_ALL_CYCLES_SCORE</th>\n",
       "      <th>INCIDENT_CNT</th>\n",
       "      <th>CMPLNT_CNT</th>\n",
       "      <th>FINE_CNT</th>\n",
       "      <th>FINE_TOT</th>\n",
       "      <th>PAYDEN_CNT</th>\n",
       "      <th>TOT_PENLTY_CNT</th>\n",
       "      <th>FILEDATE</th>\n",
       "    </tr>\n",
       "  </thead>\n",
       "  <tbody>\n",
       "    <tr>\n",
       "      <th>0</th>\n",
       "      <td>15009</td>\n",
       "      <td>BURNS NURSING HOME, INC.</td>\n",
       "      <td>701 MONROE STREET NW</td>\n",
       "      <td>RUSSELLVILLE</td>\n",
       "      <td>AL</td>\n",
       "      <td>35653.0</td>\n",
       "      <td>2.563324e+09</td>\n",
       "      <td>290.0</td>\n",
       "      <td>Franklin</td>\n",
       "      <td>For profit - Individual</td>\n",
       "      <td>...</td>\n",
       "      <td>0</td>\n",
       "      <td>8</td>\n",
       "      <td>3.2</td>\n",
       "      <td>0.0</td>\n",
       "      <td>0.0</td>\n",
       "      <td>0.0</td>\n",
       "      <td>0.0</td>\n",
       "      <td>0.0</td>\n",
       "      <td>0.0</td>\n",
       "      <td>2018-07-01</td>\n",
       "    </tr>\n",
       "    <tr>\n",
       "      <th>1</th>\n",
       "      <td>15010</td>\n",
       "      <td>COOSA VALLEY NURSING FACILITY</td>\n",
       "      <td>315 WEST HICKORY STREET</td>\n",
       "      <td>SYLACAUGA</td>\n",
       "      <td>AL</td>\n",
       "      <td>35150.0</td>\n",
       "      <td>2.562496e+09</td>\n",
       "      <td>600.0</td>\n",
       "      <td>Talladega</td>\n",
       "      <td>For profit - Corporation</td>\n",
       "      <td>...</td>\n",
       "      <td>0</td>\n",
       "      <td>16</td>\n",
       "      <td>28</td>\n",
       "      <td>0.0</td>\n",
       "      <td>0.0</td>\n",
       "      <td>1.0</td>\n",
       "      <td>15259.0</td>\n",
       "      <td>1.0</td>\n",
       "      <td>2.0</td>\n",
       "      <td>2018-07-01</td>\n",
       "    </tr>\n",
       "    <tr>\n",
       "      <th>2</th>\n",
       "      <td>15012</td>\n",
       "      <td>HIGHLANDS HEALTH AND REHAB</td>\n",
       "      <td>380 WOODS COVE ROAD</td>\n",
       "      <td>SCOTTSBORO</td>\n",
       "      <td>AL</td>\n",
       "      <td>35768.0</td>\n",
       "      <td>2.562184e+09</td>\n",
       "      <td>350.0</td>\n",
       "      <td>Jackson</td>\n",
       "      <td>Government - County</td>\n",
       "      <td>...</td>\n",
       "      <td>0</td>\n",
       "      <td>12</td>\n",
       "      <td>31.2</td>\n",
       "      <td>0.0</td>\n",
       "      <td>0.0</td>\n",
       "      <td>0.0</td>\n",
       "      <td>0.0</td>\n",
       "      <td>0.0</td>\n",
       "      <td>0.0</td>\n",
       "      <td>2018-07-01</td>\n",
       "    </tr>\n",
       "    <tr>\n",
       "      <th>3</th>\n",
       "      <td>15014</td>\n",
       "      <td>EASTVIEW REHABILITATION &amp; HEALTHCARE CENTER</td>\n",
       "      <td>7755 FOURTH AVENUE SOUTH</td>\n",
       "      <td>BIRMINGHAM</td>\n",
       "      <td>AL</td>\n",
       "      <td>35206.0</td>\n",
       "      <td>2.058330e+09</td>\n",
       "      <td>360.0</td>\n",
       "      <td>Jefferson</td>\n",
       "      <td>For profit - Corporation</td>\n",
       "      <td>...</td>\n",
       "      <td>0</td>\n",
       "      <td>24</td>\n",
       "      <td>33.6</td>\n",
       "      <td>0.0</td>\n",
       "      <td>1.0</td>\n",
       "      <td>0.0</td>\n",
       "      <td>0.0</td>\n",
       "      <td>0.0</td>\n",
       "      <td>0.0</td>\n",
       "      <td>2018-07-01</td>\n",
       "    </tr>\n",
       "    <tr>\n",
       "      <th>4</th>\n",
       "      <td>15015</td>\n",
       "      <td>PLANTATION MANOR NURSING HOME</td>\n",
       "      <td>6450 OLD TUSCALOOSA HIGHWAY   P O BOX 97</td>\n",
       "      <td>MC CALLA</td>\n",
       "      <td>AL</td>\n",
       "      <td>35111.0</td>\n",
       "      <td>2.054776e+09</td>\n",
       "      <td>360.0</td>\n",
       "      <td>Jefferson</td>\n",
       "      <td>For profit - Corporation</td>\n",
       "      <td>...</td>\n",
       "      <td>0</td>\n",
       "      <td>24</td>\n",
       "      <td>19.2</td>\n",
       "      <td>0.0</td>\n",
       "      <td>0.0</td>\n",
       "      <td>0.0</td>\n",
       "      <td>0.0</td>\n",
       "      <td>0.0</td>\n",
       "      <td>0.0</td>\n",
       "      <td>2018-07-01</td>\n",
       "    </tr>\n",
       "  </tbody>\n",
       "</table>\n",
       "<p>5 rows × 78 columns</p>\n",
       "</div>"
      ],
      "text/plain": [
       "  PROVNUM                                     PROVNAME  \\\n",
       "0   15009                     BURNS NURSING HOME, INC.   \n",
       "1   15010                COOSA VALLEY NURSING FACILITY   \n",
       "2   15012                   HIGHLANDS HEALTH AND REHAB   \n",
       "3   15014  EASTVIEW REHABILITATION & HEALTHCARE CENTER   \n",
       "4   15015                PLANTATION MANOR NURSING HOME   \n",
       "\n",
       "                                    ADDRESS          CITY STATE      ZIP  \\\n",
       "0                      701 MONROE STREET NW  RUSSELLVILLE    AL  35653.0   \n",
       "1                   315 WEST HICKORY STREET     SYLACAUGA    AL  35150.0   \n",
       "2                       380 WOODS COVE ROAD    SCOTTSBORO    AL  35768.0   \n",
       "3                  7755 FOURTH AVENUE SOUTH    BIRMINGHAM    AL  35206.0   \n",
       "4  6450 OLD TUSCALOOSA HIGHWAY   P O BOX 97      MC CALLA    AL  35111.0   \n",
       "\n",
       "          PHONE  COUNTY_SSA COUNTY_NAME                 OWNERSHIP     ...      \\\n",
       "0  2.563324e+09       290.0    Franklin   For profit - Individual     ...       \n",
       "1  2.562496e+09       600.0   Talladega  For profit - Corporation     ...       \n",
       "2  2.562184e+09       350.0     Jackson       Government - County     ...       \n",
       "3  2.058330e+09       360.0   Jefferson  For profit - Corporation     ...       \n",
       "4  2.054776e+09       360.0   Jefferson  For profit - Corporation     ...       \n",
       "\n",
       "   CYCLE_2_REVISIT_SCORE  CYCLE_2_TOTAL_SCORE WEIGHTED_ALL_CYCLES_SCORE  \\\n",
       "0                      0                    8                       3.2   \n",
       "1                      0                   16                        28   \n",
       "2                      0                   12                      31.2   \n",
       "3                      0                   24                      33.6   \n",
       "4                      0                   24                      19.2   \n",
       "\n",
       "  INCIDENT_CNT CMPLNT_CNT FINE_CNT FINE_TOT PAYDEN_CNT TOT_PENLTY_CNT  \\\n",
       "0          0.0        0.0      0.0      0.0        0.0            0.0   \n",
       "1          0.0        0.0      1.0  15259.0        1.0            2.0   \n",
       "2          0.0        0.0      0.0      0.0        0.0            0.0   \n",
       "3          0.0        1.0      0.0      0.0        0.0            0.0   \n",
       "4          0.0        0.0      0.0      0.0        0.0            0.0   \n",
       "\n",
       "     FILEDATE  \n",
       "0  2018-07-01  \n",
       "1  2018-07-01  \n",
       "2  2018-07-01  \n",
       "3  2018-07-01  \n",
       "4  2018-07-01  \n",
       "\n",
       "[5 rows x 78 columns]"
      ]
     },
     "execution_count": 172,
     "metadata": {},
     "output_type": "execute_result"
    }
   ],
   "source": [
    "df.head()"
   ]
  },
  {
   "cell_type": "code",
   "execution_count": 178,
   "metadata": {},
   "outputs": [],
   "source": [
    "#choosing only columns with numeric values\n",
    "df1 = df._get_numeric_data()"
   ]
  },
  {
   "cell_type": "code",
   "execution_count": 179,
   "metadata": {},
   "outputs": [],
   "source": [
    "#dropping phone and country columns\n",
    "df2 = df1.drop(['PHONE','COUNTY_SSA'], axis=1)"
   ]
  },
  {
   "cell_type": "code",
   "execution_count": 180,
   "metadata": {},
   "outputs": [
    {
     "data": {
      "text/plain": [
       "(15617, 28)"
      ]
     },
     "execution_count": 180,
     "metadata": {},
     "output_type": "execute_result"
    }
   ],
   "source": [
    "df2.shape"
   ]
  },
  {
   "cell_type": "code",
   "execution_count": 181,
   "metadata": {},
   "outputs": [
    {
     "data": {
      "text/html": [
       "<div>\n",
       "<style scoped>\n",
       "    .dataframe tbody tr th:only-of-type {\n",
       "        vertical-align: middle;\n",
       "    }\n",
       "\n",
       "    .dataframe tbody tr th {\n",
       "        vertical-align: top;\n",
       "    }\n",
       "\n",
       "    .dataframe thead th {\n",
       "        text-align: right;\n",
       "    }\n",
       "</style>\n",
       "<table border=\"1\" class=\"dataframe\">\n",
       "  <thead>\n",
       "    <tr style=\"text-align: right;\">\n",
       "      <th></th>\n",
       "      <th>ZIP</th>\n",
       "      <th>BEDCERT</th>\n",
       "      <th>RESTOT</th>\n",
       "      <th>OVERALL_RATING</th>\n",
       "      <th>SURVEY_RATING</th>\n",
       "      <th>QUALITY_RATING</th>\n",
       "      <th>STAFFING_RATING</th>\n",
       "      <th>RN_STAFFING_RATING</th>\n",
       "      <th>AIDHRD</th>\n",
       "      <th>VOCHRD</th>\n",
       "      <th>...</th>\n",
       "      <th>ADJ_AIDE</th>\n",
       "      <th>ADJ_LPN</th>\n",
       "      <th>ADJ_RN</th>\n",
       "      <th>ADJ_TOTAL</th>\n",
       "      <th>INCIDENT_CNT</th>\n",
       "      <th>CMPLNT_CNT</th>\n",
       "      <th>FINE_CNT</th>\n",
       "      <th>FINE_TOT</th>\n",
       "      <th>PAYDEN_CNT</th>\n",
       "      <th>TOT_PENLTY_CNT</th>\n",
       "    </tr>\n",
       "  </thead>\n",
       "  <tbody>\n",
       "    <tr>\n",
       "      <th>0</th>\n",
       "      <td>35653.0</td>\n",
       "      <td>57.0</td>\n",
       "      <td>51.5</td>\n",
       "      <td>5.0</td>\n",
       "      <td>5.0</td>\n",
       "      <td>5.0</td>\n",
       "      <td>4.0</td>\n",
       "      <td>4.0</td>\n",
       "      <td>3.43572</td>\n",
       "      <td>1.16495</td>\n",
       "      <td>...</td>\n",
       "      <td>3.11741</td>\n",
       "      <td>1.24750</td>\n",
       "      <td>0.83853</td>\n",
       "      <td>5.13047</td>\n",
       "      <td>0.0</td>\n",
       "      <td>0.0</td>\n",
       "      <td>0.0</td>\n",
       "      <td>0.0</td>\n",
       "      <td>0.0</td>\n",
       "      <td>0.0</td>\n",
       "    </tr>\n",
       "    <tr>\n",
       "      <th>1</th>\n",
       "      <td>35150.0</td>\n",
       "      <td>85.0</td>\n",
       "      <td>74.2</td>\n",
       "      <td>3.0</td>\n",
       "      <td>3.0</td>\n",
       "      <td>5.0</td>\n",
       "      <td>1.0</td>\n",
       "      <td>1.0</td>\n",
       "      <td>NaN</td>\n",
       "      <td>NaN</td>\n",
       "      <td>...</td>\n",
       "      <td>NaN</td>\n",
       "      <td>NaN</td>\n",
       "      <td>NaN</td>\n",
       "      <td>NaN</td>\n",
       "      <td>0.0</td>\n",
       "      <td>0.0</td>\n",
       "      <td>1.0</td>\n",
       "      <td>15259.0</td>\n",
       "      <td>1.0</td>\n",
       "      <td>2.0</td>\n",
       "    </tr>\n",
       "    <tr>\n",
       "      <th>2</th>\n",
       "      <td>35768.0</td>\n",
       "      <td>50.0</td>\n",
       "      <td>NaN</td>\n",
       "      <td>1.0</td>\n",
       "      <td>2.0</td>\n",
       "      <td>2.0</td>\n",
       "      <td>1.0</td>\n",
       "      <td>1.0</td>\n",
       "      <td>NaN</td>\n",
       "      <td>NaN</td>\n",
       "      <td>...</td>\n",
       "      <td>NaN</td>\n",
       "      <td>NaN</td>\n",
       "      <td>NaN</td>\n",
       "      <td>NaN</td>\n",
       "      <td>0.0</td>\n",
       "      <td>0.0</td>\n",
       "      <td>0.0</td>\n",
       "      <td>0.0</td>\n",
       "      <td>0.0</td>\n",
       "      <td>0.0</td>\n",
       "    </tr>\n",
       "    <tr>\n",
       "      <th>3</th>\n",
       "      <td>35206.0</td>\n",
       "      <td>92.0</td>\n",
       "      <td>79.8</td>\n",
       "      <td>2.0</td>\n",
       "      <td>2.0</td>\n",
       "      <td>4.0</td>\n",
       "      <td>3.0</td>\n",
       "      <td>3.0</td>\n",
       "      <td>2.32722</td>\n",
       "      <td>0.82104</td>\n",
       "      <td>...</td>\n",
       "      <td>2.40074</td>\n",
       "      <td>0.86962</td>\n",
       "      <td>0.56463</td>\n",
       "      <td>3.83026</td>\n",
       "      <td>0.0</td>\n",
       "      <td>1.0</td>\n",
       "      <td>0.0</td>\n",
       "      <td>0.0</td>\n",
       "      <td>0.0</td>\n",
       "      <td>0.0</td>\n",
       "    </tr>\n",
       "    <tr>\n",
       "      <th>4</th>\n",
       "      <td>35111.0</td>\n",
       "      <td>103.0</td>\n",
       "      <td>98.1</td>\n",
       "      <td>3.0</td>\n",
       "      <td>3.0</td>\n",
       "      <td>4.0</td>\n",
       "      <td>3.0</td>\n",
       "      <td>2.0</td>\n",
       "      <td>2.33617</td>\n",
       "      <td>0.92407</td>\n",
       "      <td>...</td>\n",
       "      <td>2.55126</td>\n",
       "      <td>1.08955</td>\n",
       "      <td>0.30360</td>\n",
       "      <td>3.95709</td>\n",
       "      <td>0.0</td>\n",
       "      <td>0.0</td>\n",
       "      <td>0.0</td>\n",
       "      <td>0.0</td>\n",
       "      <td>0.0</td>\n",
       "      <td>0.0</td>\n",
       "    </tr>\n",
       "  </tbody>\n",
       "</table>\n",
       "<p>5 rows × 28 columns</p>\n",
       "</div>"
      ],
      "text/plain": [
       "       ZIP  BEDCERT  RESTOT  OVERALL_RATING  SURVEY_RATING  QUALITY_RATING  \\\n",
       "0  35653.0     57.0    51.5             5.0            5.0             5.0   \n",
       "1  35150.0     85.0    74.2             3.0            3.0             5.0   \n",
       "2  35768.0     50.0     NaN             1.0            2.0             2.0   \n",
       "3  35206.0     92.0    79.8             2.0            2.0             4.0   \n",
       "4  35111.0    103.0    98.1             3.0            3.0             4.0   \n",
       "\n",
       "   STAFFING_RATING  RN_STAFFING_RATING   AIDHRD   VOCHRD       ...        \\\n",
       "0              4.0                 4.0  3.43572  1.16495       ...         \n",
       "1              1.0                 1.0      NaN      NaN       ...         \n",
       "2              1.0                 1.0      NaN      NaN       ...         \n",
       "3              3.0                 3.0  2.32722  0.82104       ...         \n",
       "4              3.0                 2.0  2.33617  0.92407       ...         \n",
       "\n",
       "   ADJ_AIDE  ADJ_LPN   ADJ_RN  ADJ_TOTAL  INCIDENT_CNT  CMPLNT_CNT  FINE_CNT  \\\n",
       "0   3.11741  1.24750  0.83853    5.13047           0.0         0.0       0.0   \n",
       "1       NaN      NaN      NaN        NaN           0.0         0.0       1.0   \n",
       "2       NaN      NaN      NaN        NaN           0.0         0.0       0.0   \n",
       "3   2.40074  0.86962  0.56463    3.83026           0.0         1.0       0.0   \n",
       "4   2.55126  1.08955  0.30360    3.95709           0.0         0.0       0.0   \n",
       "\n",
       "   FINE_TOT  PAYDEN_CNT  TOT_PENLTY_CNT  \n",
       "0       0.0         0.0             0.0  \n",
       "1   15259.0         1.0             2.0  \n",
       "2       0.0         0.0             0.0  \n",
       "3       0.0         0.0             0.0  \n",
       "4       0.0         0.0             0.0  \n",
       "\n",
       "[5 rows x 28 columns]"
      ]
     },
     "execution_count": 181,
     "metadata": {},
     "output_type": "execute_result"
    }
   ],
   "source": [
    "df2.head()"
   ]
  },
  {
   "cell_type": "code",
   "execution_count": 182,
   "metadata": {},
   "outputs": [],
   "source": [
    "# b) replacing nat with nan and then dropping nan\n",
    "\n",
    "df2.replace([\"NaN\", 'NaT'], np.nan, inplace = True) \n",
    "clean_df= df2.dropna(axis = 0)"
   ]
  },
  {
   "cell_type": "code",
   "execution_count": 184,
   "metadata": {},
   "outputs": [
    {
     "data": {
      "text/plain": [
       "(14557, 28)"
      ]
     },
     "execution_count": 184,
     "metadata": {},
     "output_type": "execute_result"
    }
   ],
   "source": [
    "clean_df.shape"
   ]
  },
  {
   "cell_type": "code",
   "execution_count": 185,
   "metadata": {},
   "outputs": [],
   "source": [
    "#c) Split into train / test set using an 80/20 split.\n",
    "\n",
    "X = clean_df.drop('OVERALL_RATING', axis =1)\n",
    "y = clean_df[['OVERALL_RATING']]\n",
    "\n",
    "X_train, X_test, y_train, y_test = train_test_split(X,y, test_size =0.2, random_state = 123 )"
   ]
  },
  {
   "cell_type": "code",
   "execution_count": 186,
   "metadata": {},
   "outputs": [],
   "source": [
    "#d) Scale X_train data\n",
    "\n",
    "scaling_tool = StandardScaler()\n",
    "\n",
    "X_train_scaled = scaling_tool.fit_transform(X_train)\n",
    "X_test_scaled = scaling_tool.transform(X_test)"
   ]
  },
  {
   "cell_type": "markdown",
   "metadata": {},
   "source": [
    "# 2. Model #1: Logistic Regression"
   ]
  },
  {
   "cell_type": "code",
   "execution_count": 53,
   "metadata": {},
   "outputs": [],
   "source": [
    "from sklearn.linear_model import LogisticRegression"
   ]
  },
  {
   "cell_type": "code",
   "execution_count": 188,
   "metadata": {},
   "outputs": [
    {
     "name": "stderr",
     "output_type": "stream",
     "text": [
      "C:\\Users\\Gokturk\\Anaconda3\\lib\\site-packages\\sklearn\\utils\\validation.py:578: DataConversionWarning: A column-vector y was passed when a 1d array was expected. Please change the shape of y to (n_samples, ), for example using ravel().\n",
      "  y = column_or_1d(y, warn=True)\n"
     ]
    }
   ],
   "source": [
    "# a) Using LogisticRegression(), to build a model to predict the \"OVERALL_RATING\"\n",
    "\n",
    "lr = LogisticRegression()\n",
    "lr.fit(X_train_scaled, y_train)\n",
    "predicted_test = lr.predict(X_test_scaled)"
   ]
  },
  {
   "cell_type": "code",
   "execution_count": 118,
   "metadata": {},
   "outputs": [
    {
     "data": {
      "text/plain": [
       "0.7084478021978022"
      ]
     },
     "execution_count": 118,
     "metadata": {},
     "output_type": "execute_result"
    }
   ],
   "source": [
    "# b) calculating the score\n",
    "\n",
    "metrics.accuracy_score(predicted_test,y_test)"
   ]
  },
  {
   "cell_type": "code",
   "execution_count": 119,
   "metadata": {},
   "outputs": [
    {
     "data": {
      "text/plain": [
       "<matplotlib.axes._subplots.AxesSubplot at 0x2683ba5fc18>"
      ]
     },
     "execution_count": 119,
     "metadata": {},
     "output_type": "execute_result"
    },
    {
     "data": {
      "image/png": "[encoded data removed]",
      "text/plain": [
       "<Figure size 432x288 with 1 Axes>"
      ]
     },
     "metadata": {},
     "output_type": "display_data"
    }
   ],
   "source": [
    "# c) confusion matrix & classification report for the test data\n",
    "\n",
    "from sklearn.metrics import confusion_matrix\n",
    "cm=confusion_matrix(y_test, predicted_test)\n",
    "sns.heatmap(cm, annot=True, square=False, fmt='', cbar=False)"
   ]
  },
  {
   "cell_type": "code",
   "execution_count": 85,
   "metadata": {},
   "outputs": [
    {
     "name": "stdout",
     "output_type": "stream",
     "text": [
      "             precision    recall  f1-score   support\n",
      "\n",
      "        1.0       0.78      0.78      0.78       347\n",
      "        2.0       0.54      0.75      0.63       573\n",
      "        3.0       0.48      0.15      0.23       465\n",
      "        4.0       0.67      0.69      0.68       664\n",
      "        5.0       0.89      0.97      0.93       863\n",
      "\n",
      "avg / total       0.69      0.71      0.68      2912\n",
      "\n"
     ]
    }
   ],
   "source": [
    "print(metrics.classification_report(y_test, predicted, target_names=None))"
   ]
  },
  {
   "cell_type": "markdown",
   "metadata": {},
   "source": [
    "d) 'Class 2' got predicted poorly whereas 'Class 4' got predicted the best.\n"
   ]
  },
  {
   "cell_type": "code",
   "execution_count": 120,
   "metadata": {
    "scrolled": true
   },
   "outputs": [
    {
     "data": {
      "text/plain": [
       "<matplotlib.axes._subplots.AxesSubplot at 0x2683ba92198>"
      ]
     },
     "execution_count": 120,
     "metadata": {},
     "output_type": "execute_result"
    },
    {
     "data": {
      "image/png": "[encoded data removed]",
      "text/plain": [
       "<Figure size 432x288 with 1 Axes>"
      ]
     },
     "metadata": {},
     "output_type": "display_data"
    }
   ],
   "source": [
    "# e) Confusion matrix & classification report for the train data\n",
    "#     There are no signs of overfitting as classification reports of train and test gives similar results.\n",
    "\n",
    "predicted_train = lr.predict(X_train_scaled)\n",
    "cm = confusion_matrix(y_train, predicted_train)\n",
    "sns.heatmap(cm, annot=True, square=False, fmt='', cbar=False)"
   ]
  },
  {
   "cell_type": "code",
   "execution_count": 140,
   "metadata": {},
   "outputs": [
    {
     "name": "stdout",
     "output_type": "stream",
     "text": [
      "             precision    recall  f1-score   support\n",
      "\n",
      "        1.0       0.82      0.78      0.80      1352\n",
      "        2.0       0.54      0.73      0.62      2325\n",
      "        3.0       0.44      0.15      0.22      1928\n",
      "        4.0       0.65      0.68      0.66      2654\n",
      "        5.0       0.88      0.97      0.93      3386\n",
      "\n",
      "avg / total       0.68      0.70      0.67     11645\n",
      "\n"
     ]
    }
   ],
   "source": [
    "print(metrics.classification_report(y_train, predicted_train, target_names=None))"
   ]
  },
  {
   "cell_type": "code",
   "execution_count": 123,
   "metadata": {
    "scrolled": false
   },
   "outputs": [
    {
     "name": "stdout",
     "output_type": "stream",
     "text": [
      "[[5.52727960e-01 3.86604404e-01 4.28079017e-02 1.78597338e-02\n",
      "  4.06392073e-10]\n",
      " [1.00934484e-07 1.21859853e-02 7.63550984e-02 2.52555179e-01\n",
      "  6.58903637e-01]\n",
      " [7.73989990e-06 3.02220317e-01 1.48954896e-01 2.99244401e-01\n",
      "  2.49572646e-01]\n",
      " ...\n",
      " [2.96305643e-01 2.68611829e-01 2.65328595e-01 1.69753918e-01\n",
      "  1.50113408e-08]\n",
      " [1.05328170e-01 3.24982198e-01 3.03893173e-01 2.65796051e-01\n",
      "  4.08416068e-07]\n",
      " [4.36620046e-03 5.98874253e-01 2.12425229e-01 1.84273455e-01\n",
      "  6.08622952e-05]]\n"
     ]
    }
   ],
   "source": [
    "# f) predicted probability\n",
    "\n",
    "print(lr.predict_proba(X_test_scaled)) "
   ]
  },
  {
   "cell_type": "markdown",
   "metadata": {},
   "source": [
    "# 3. Model #2: PCA(n_components = 2) + Logistic Regression"
   ]
  },
  {
   "cell_type": "code",
   "execution_count": 86,
   "metadata": {},
   "outputs": [],
   "source": [
    "from sklearn.decomposition import PCA"
   ]
  },
  {
   "cell_type": "code",
   "execution_count": 89,
   "metadata": {},
   "outputs": [],
   "source": [
    "# a) limit PCA object to 2 components \n",
    "pca_2 = PCA(n_components=2)"
   ]
  },
  {
   "cell_type": "code",
   "execution_count": 149,
   "metadata": {},
   "outputs": [],
   "source": [
    "# b) using pca object to fit & apply pca transformation to data \n",
    "X_train_pca2 = pca_2.fit_transform(X_train_scaled)\n",
    "X_test_pca2= pca_2.transform(X_test_scaled)"
   ]
  },
  {
   "cell_type": "code",
   "execution_count": 141,
   "metadata": {},
   "outputs": [
    {
     "name": "stderr",
     "output_type": "stream",
     "text": [
      "C:\\Users\\Gokturk\\Anaconda3\\lib\\site-packages\\sklearn\\utils\\validation.py:578: DataConversionWarning: A column-vector y was passed when a 1d array was expected. Please change the shape of y to (n_samples, ), for example using ravel().\n",
      "  y = column_or_1d(y, warn=True)\n"
     ]
    },
    {
     "data": {
      "text/plain": [
       "0.3914835164835165"
      ]
     },
     "execution_count": 141,
     "metadata": {},
     "output_type": "execute_result"
    }
   ],
   "source": [
    "#using the transformed data (X_train_pca_2) to fit a Logistic Regression model and check accuracy\n",
    "\n",
    "lr = LogisticRegression()\n",
    "lr.fit(X_train_pca2, y_train)\n",
    "predicted_pca2_test = lr.predict(X_test_pca2)\n",
    "metrics.accuracy_score(predicted_pca2,y_test)\n"
   ]
  },
  {
   "cell_type": "code",
   "execution_count": 148,
   "metadata": {
    "scrolled": false
   },
   "outputs": [
    {
     "data": {
      "text/plain": [
       "<matplotlib.axes._subplots.AxesSubplot at 0x26838f39d68>"
      ]
     },
     "execution_count": 148,
     "metadata": {},
     "output_type": "execute_result"
    },
    {
     "data": {
      "image/png": "[encoded data removed]",
      "text/plain": [
       "<Figure size 432x288 with 1 Axes>"
      ]
     },
     "metadata": {},
     "output_type": "display_data"
    }
   ],
   "source": [
    "# c) Calculating the confusion matrix and classification report for the test data\n",
    "\n",
    "cm_pca2 = confusion_matrix(y_test, predicted_pca2_test)\n",
    "sns.heatmap(cm_pca2, annot=True, square=False, fmt='', cbar=False)\n"
   ]
  },
  {
   "cell_type": "code",
   "execution_count": 136,
   "metadata": {},
   "outputs": [
    {
     "name": "stdout",
     "output_type": "stream",
     "text": [
      "             precision    recall  f1-score   support\n",
      "\n",
      "        1.0       0.42      0.34      0.38       347\n",
      "        2.0       0.30      0.47      0.37       573\n",
      "        3.0       0.00      0.00      0.00       465\n",
      "        4.0       0.26      0.05      0.08       664\n",
      "        5.0       0.45      0.83      0.58       863\n",
      "\n",
      "avg / total       0.30      0.39      0.31      2912\n",
      "\n"
     ]
    }
   ],
   "source": [
    "print(metrics.classification_report(y_test, predicted_pca2, target_names=None))"
   ]
  },
  {
   "cell_type": "code",
   "execution_count": 157,
   "metadata": {},
   "outputs": [
    {
     "name": "stderr",
     "output_type": "stream",
     "text": [
      "C:\\Users\\Gokturk\\Anaconda3\\lib\\site-packages\\sklearn\\utils\\validation.py:578: DataConversionWarning: A column-vector y was passed when a 1d array was expected. Please change the shape of y to (n_samples, ), for example using ravel().\n",
      "  y = column_or_1d(y, warn=True)\n"
     ]
    },
    {
     "data": {
      "text/plain": [
       "<matplotlib.axes._subplots.AxesSubplot at 0x26838d5a160>"
      ]
     },
     "execution_count": 157,
     "metadata": {},
     "output_type": "execute_result"
    },
    {
     "data": {
      "image/png": "[encoded data removed]",
      "text/plain": [
       "<Figure size 432x288 with 1 Axes>"
      ]
     },
     "metadata": {},
     "output_type": "display_data"
    }
   ],
   "source": [
    "# d) Calculating the confusion matrix and classification report for the train data\n",
    "\n",
    "lr = LogisticRegression()\n",
    "lr.fit(X_train_pca2, y_train)\n",
    "predicted_pca2_train = lr.predict(X_train_pca2)\n",
    "\n",
    "cm_pca2 = confusion_matrix(y_train, predicted_pca2_train)\n",
    "sns.heatmap(cm_pca2, annot=True, square=False, fmt='', cbar=False)\n"
   ]
  },
  {
   "cell_type": "code",
   "execution_count": 158,
   "metadata": {},
   "outputs": [
    {
     "name": "stdout",
     "output_type": "stream",
     "text": [
      "             precision    recall  f1-score   support\n",
      "\n",
      "        1.0       0.44      0.39      0.42      1352\n",
      "        2.0       0.29      0.42      0.34      2325\n",
      "        3.0       0.20      0.00      0.00      1928\n",
      "        4.0       0.25      0.05      0.08      2654\n",
      "        5.0       0.43      0.83      0.57      3386\n",
      "\n",
      "avg / total       0.32      0.38      0.30     11645\n",
      "\n"
     ]
    }
   ],
   "source": [
    "print(metrics.classification_report(y_train, predicted_pca2_train, target_names=None))"
   ]
  },
  {
   "cell_type": "markdown",
   "metadata": {},
   "source": [
    "e) This model performs worse than model 1.This might be because there are only 2 principal components in the \n",
    "model and this might be causing it to miss some vital information whereas model 1 is using all the features so it is performing\n",
    "better."
   ]
  },
  {
   "cell_type": "markdown",
   "metadata": {},
   "source": [
    "# 4. Model #3: PCA(n_components = 16) + Logistic Regression"
   ]
  },
  {
   "cell_type": "code",
   "execution_count": 75,
   "metadata": {},
   "outputs": [],
   "source": [
    "from sklearn.decomposition import PCA"
   ]
  },
  {
   "cell_type": "code",
   "execution_count": 137,
   "metadata": {},
   "outputs": [],
   "source": [
    "# a) limiting PCA object to 16 components \n",
    "pca_16 = PCA(n_components=16)"
   ]
  },
  {
   "cell_type": "code",
   "execution_count": 138,
   "metadata": {},
   "outputs": [],
   "source": [
    "# using pca object to fit & apply pca transformation to data \n",
    "X_train_pca16 = pca_16.fit_transform(X_train_scaled)\n",
    "X_test_pca16 = pca_16.transform(X_test_scaled)"
   ]
  },
  {
   "cell_type": "code",
   "execution_count": 143,
   "metadata": {},
   "outputs": [
    {
     "name": "stderr",
     "output_type": "stream",
     "text": [
      "C:\\Users\\Gokturk\\Anaconda3\\lib\\site-packages\\sklearn\\utils\\validation.py:578: DataConversionWarning: A column-vector y was passed when a 1d array was expected. Please change the shape of y to (n_samples, ), for example using ravel().\n",
      "  y = column_or_1d(y, warn=True)\n"
     ]
    },
    {
     "data": {
      "text/plain": [
       "0.7032967032967034"
      ]
     },
     "execution_count": 143,
     "metadata": {},
     "output_type": "execute_result"
    }
   ],
   "source": [
    "#b) using the transformed data (X_train_pca_16) to fit a Logistic Regression model and check accuracy\n",
    "\n",
    "lr.fit(X_train_pca16, y_train)\n",
    "predicted_pca16_test = lr.predict(X_test_pca16)\n",
    "\n",
    "metrics.accuracy_score(predicted_pca16_test,y_test)"
   ]
  },
  {
   "cell_type": "code",
   "execution_count": 144,
   "metadata": {},
   "outputs": [
    {
     "data": {
      "text/plain": [
       "<matplotlib.axes._subplots.AxesSubplot at 0x2683baee2b0>"
      ]
     },
     "execution_count": 144,
     "metadata": {},
     "output_type": "execute_result"
    },
    {
     "data": {
      "image/png": "[encoded data removed]",
      "text/plain": [
       "<Figure size 432x288 with 1 Axes>"
      ]
     },
     "metadata": {},
     "output_type": "display_data"
    }
   ],
   "source": [
    "# c) Calculating the confusion matrix and classification report for the test data\n",
    "\n",
    "cm_pca16 = confusion_matrix(y_test, predicted_pca16_test)\n",
    "sns.heatmap(cm_pca16, annot=True, square=False, fmt='', cbar=False)"
   ]
  },
  {
   "cell_type": "code",
   "execution_count": 101,
   "metadata": {},
   "outputs": [
    {
     "name": "stdout",
     "output_type": "stream",
     "text": [
      "             precision    recall  f1-score   support\n",
      "\n",
      "        1.0       0.79      0.76      0.77       347\n",
      "        2.0       0.53      0.76      0.62       573\n",
      "        3.0       0.49      0.14      0.22       465\n",
      "        4.0       0.66      0.67      0.67       664\n",
      "        5.0       0.88      0.97      0.92       863\n",
      "\n",
      "avg / total       0.69      0.70      0.68      2912\n",
      "\n"
     ]
    }
   ],
   "source": [
    "print(metrics.classification_report(y_test, predicted_pca16, target_names=None))"
   ]
  },
  {
   "cell_type": "code",
   "execution_count": 159,
   "metadata": {
    "scrolled": true
   },
   "outputs": [
    {
     "name": "stderr",
     "output_type": "stream",
     "text": [
      "C:\\Users\\Gokturk\\Anaconda3\\lib\\site-packages\\sklearn\\utils\\validation.py:578: DataConversionWarning: A column-vector y was passed when a 1d array was expected. Please change the shape of y to (n_samples, ), for example using ravel().\n",
      "  y = column_or_1d(y, warn=True)\n"
     ]
    },
    {
     "data": {
      "text/plain": [
       "<matplotlib.axes._subplots.AxesSubplot at 0x2683bc6f4a8>"
      ]
     },
     "execution_count": 159,
     "metadata": {},
     "output_type": "execute_result"
    },
    {
     "data": {
      "image/png": "[encoded data removed]",
      "text/plain": [
       "<Figure size 432x288 with 1 Axes>"
      ]
     },
     "metadata": {},
     "output_type": "display_data"
    }
   ],
   "source": [
    "# d)Calculating the confusion matrix and classification report for the train data\n",
    "#   There are no signs of overfitting as classification reports of train and test gives similar results.\n",
    "\n",
    "lr = LogisticRegression()\n",
    "lr.fit(X_train_pca16, y_train)\n",
    "predicted_pca16_train = lr.predict(X_train_pca16)\n",
    "\n",
    "cm_pca16 = confusion_matrix(y_train, predicted_pca16_train)\n",
    "sns.heatmap(cm_pca16, annot=True, square=False, fmt='', cbar=False)\n"
   ]
  },
  {
   "cell_type": "code",
   "execution_count": 160,
   "metadata": {},
   "outputs": [
    {
     "name": "stdout",
     "output_type": "stream",
     "text": [
      "             precision    recall  f1-score   support\n",
      "\n",
      "        1.0       0.82      0.78      0.80      1352\n",
      "        2.0       0.54      0.74      0.62      2325\n",
      "        3.0       0.44      0.14      0.21      1928\n",
      "        4.0       0.64      0.66      0.65      2654\n",
      "        5.0       0.87      0.98      0.92      3386\n",
      "\n",
      "avg / total       0.67      0.69      0.67     11645\n",
      "\n"
     ]
    }
   ],
   "source": [
    "print(metrics.classification_report(y_train, predicted_pca16_train, target_names=None))"
   ]
  }
 ],
 "metadata": {
  "kernelspec": {
   "display_name": "Python 3",
   "language": "python",
   "name": "python3"
  },
  "language_info": {
   "codemirror_mode": {
    "name": "ipython",
    "version": 3
   },
   "file_extension": ".py",
   "mimetype": "text/x-python",
   "name": "python",
   "nbconvert_exporter": "python",
   "pygments_lexer": "ipython3",
   "version": "3.6.5"
  }
 },
 "nbformat": 4,
 "nbformat_minor": 2
}
